{
 "cells": [
  {
   "cell_type": "code",
   "execution_count": null,
   "outputs": [],
   "source": [
    "from lmsstat import stats\n",
    "\n",
    "file_dir = \"data.csv\"\n",
    "result = stats.allstats(file_dir)\n",
    "# result = stats.allstats(file_dir, p_adj=False) # When you don't want to adjust p-value\n",
    "\n",
    "result.to_csv('result.csv')"
   ],
   "metadata": {
    "collapsed": false
   },
   "id": "73434ed7c20139e9"
  }
 ],
 "metadata": {
  "kernelspec": {
   "display_name": "Python 3",
   "language": "python",
   "name": "python3"
  },
  "language_info": {
   "codemirror_mode": {
    "name": "ipython",
    "version": 3
   },
   "file_extension": ".py",
   "mimetype": "text/x-python",
   "name": "python",
   "nbconvert_exporter": "python",
   "pygments_lexer": "ipython3",
   "version": "3.11.6"
  }
 },
 "nbformat": 4,
 "nbformat_minor": 5
}
