{
 "cells": [
  {
   "cell_type": "markdown",
   "id": "650a31cd740d48ac",
   "metadata": {
    "collapsed": false
   },
   "source": [
    "# t-test, u-test, ANOVA, and Kruskal-Wallis test"
   ]
  },
  {
   "cell_type": "code",
   "execution_count": 4,
   "id": "73434ed7c20139e9",
   "metadata": {
    "ExecuteTime": {
     "end_time": "2024-05-24T02:29:56.540284Z",
     "start_time": "2024-05-24T02:29:24.301941Z"
    },
    "collapsed": false
   },
   "outputs": [],
   "source": [
    "from lmsstat import stats\n",
    "\n",
    "file_dir = \"data.csv\"\n",
    "result = stats.allstats(file_dir)\n",
    "# result = stats.allstats(file_dir, p_adj=False) # When you don't want to adjust p-value\n",
    "\n",
    "result.to_csv('result.csv')"
   ]
  },
  {
   "cell_type": "markdown",
   "id": "3185d8b3abe54e38",
   "metadata": {},
   "source": [
    "# Normality test\n",
    "보정되지 않은 결과이므로 주의."
   ]
  },
  {
   "cell_type": "code",
   "execution_count": 1,
   "id": "6025a178556dc0e4",
   "metadata": {
    "ExecuteTime": {
     "end_time": "2024-05-10T02:16:09.285054Z",
     "start_time": "2024-05-10T02:16:08.785004Z"
    }
   },
   "outputs": [],
   "source": [
    "from lmsstat import stats\n",
    "import pandas as pd\n",
    "\n",
    "path = \"data.csv\"\n",
    "data = pd.read_csv(path)\n",
    "\n",
    "result = stats.norm_test(data)\n",
    "result"
   ]
  },
  {
   "cell_type": "markdown",
   "id": "f819c6b938b1cb33",
   "metadata": {},
   "source": [
    "# Data Standardization"
   ]
  },
  {
   "cell_type": "code",
   "execution_count": 1,
   "id": "40025ccf85d851d1",
   "metadata": {
    "ExecuteTime": {
     "end_time": "2024-05-13T01:22:18.128427Z",
     "start_time": "2024-05-13T01:22:17.615266Z"
    }
   },
   "outputs": [],
   "source": [
    "import pandas as pd\n",
    "from lmsstat import stats\n",
    "\n",
    "path = \"data.csv\"\n",
    "data = pd.read_csv(path)\n",
    "scaled_data = stats.scaling(data)\n",
    "\n",
    "scaled_data"
   ]
  },
  {
   "cell_type": "markdown",
   "id": "ae741b78e380a998",
   "metadata": {},
   "source": [
    "# PCA"
   ]
  },
  {
   "cell_type": "code",
   "execution_count": 1,
   "id": "988f0620904a0b3d",
   "metadata": {
    "ExecuteTime": {
     "end_time": "2024-05-16T01:57:19.578276Z",
     "start_time": "2024-05-16T01:57:18.632702Z"
    }
   },
   "outputs": [],
   "source": [
    "from lmsstat import stats, plot\n",
    "import pandas as pd\n",
    "\n",
    "data = pd.read_csv(\"data.csv\")\n",
    "\n",
    "pc_scores, pc_loadings, r_square = stats.pca(data)\n",
    "\n",
    "pca_plt = plot.plot_pca(pc_scores, data['Group'])\n",
    "\n",
    "pca_plt.display()"
   ]
  },
  {
   "cell_type": "markdown",
   "id": "46ca24d0d12a7e7b",
   "metadata": {},
   "source": [
    "# Box plot, Dot plot\n",
    "각각 현재 작업 디렉토리 밑에 만들어진 boxplots, dotplots 폴더에 자동으로 저장됨."
   ]
  },
  {
   "cell_type": "code",
   "execution_count": 1,
   "id": "35a4d7f050277ef2",
   "metadata": {
    "ExecuteTime": {
     "end_time": "2024-05-16T04:57:45.144079Z",
     "start_time": "2024-05-16T04:57:43.639535Z"
    }
   },
   "outputs": [],
   "source": [
    "from lmsstat import plot\n",
    "import pandas as pd\n",
    "\n",
    "data = pd.read_csv(\"data.csv\")\n",
    "\n",
    "plot.plot_box(data)\n",
    "plot.plot_dot(data)"
   ]
  },
  {
   "cell_type": "markdown",
   "id": "690f1ee2a506fbbe",
   "metadata": {},
   "source": [
    "# Heatmap"
   ]
  },
  {
   "cell_type": "code",
   "execution_count": 1,
   "id": "4b96096ef93894cb",
   "metadata": {
    "ExecuteTime": {
     "end_time": "2024-05-16T05:43:07.116297Z",
     "start_time": "2024-05-16T05:43:05.932160Z"
    }
   },
   "outputs": [],
   "source": [
    "from lmsstat import plot\n",
    "import pandas as pd\n",
    "\n",
    "data = pd.read_csv(\"data.csv\")\n",
    "\n",
    "plot.plot_heatmap(data)"
   ]
  }
 ],
 "metadata": {
  "kernelspec": {
   "display_name": "Python 3",
   "language": "python",
   "name": "python3"
  },
  "language_info": {
   "codemirror_mode": {
    "name": "ipython",
    "version": 3
   },
   "file_extension": ".py",
   "mimetype": "text/x-python",
   "name": "python",
   "nbconvert_exporter": "python",
   "pygments_lexer": "ipython3",
   "version": "3.12.3"
  }
 },
 "nbformat": 4,
 "nbformat_minor": 5
}
